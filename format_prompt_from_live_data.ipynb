{
 "cells": [
  {
   "cell_type": "markdown",
   "metadata": {},
   "source": [
    "# 📄 Format Weather Data\n",
    "Converts weather JSON into a text prompt for the model."
   ]
  },
  {
   "cell_type": "code",
   "execution_count": null,
   "metadata": {},
   "outputs": [],
   "source": [
    "def generate_prompt(weather_data):\n",
    "    if not weather_data:\n",
    "        return \"No data available\"\n",
    "    \n",
    "    main = weather_data['main']\n",
    "    wind = weather_data['wind']\n",
    "    coord = weather_data['coord']\n",
    "    weather_desc = weather_data['weather'][0]['description'].capitalize()\n",
    "    loc = weather_data.get('name', 'Unknown')\n",
    "\n",
    "    temp = main['temp']\n",
    "    feels_like = main.get('feels_like', temp)\n",
    "    humidity = main['humidity']\n",
    "    wind_kmh = wind['speed'] * 3.6\n",
    "    pressure = main['pressure']\n",
    "\n",
    "    return f\"\"\"\n",
    "You are a weather advisory assistant working with NDMA.\n",
    "\n",
    "Given the current real-time weather data below:\n",
    "\n",
    "📍 Location: {loc} ({coord['lat']}°N, {coord['lon']}°E)\n",
    "🌡 Temperature: {temp} °C\n",
    "🥵 Feels Like: {feels_like} °C\n",
    "💧 Humidity: {humidity} %\n",
    "🌬 Wind Speed: {wind_kmh:.2f} km/h\n",
    "📉 Pressure: {pressure} hPa\n",
    "🌫 Weather: {weather_desc}\n",
    "\n",
    "Your job is to:\n",
    "- Only generate risk warnings if values exceed safe thresholds\n",
    "- Avoid including generic warnings if no severe risk exists\n",
    "- Be concise and data-driven\n",
    "- Give all in bullets\n",
    "\n",
    "Output a clear advisory including:\n",
    "1. Local weather summary\n",
    "2. Only relevant risk warnings (if any)\n",
    "3. Recommended actions\n",
    "\n",
    "Response:\n",
    "\"\"\""
   ]
  }
 ],
 "metadata": {
  "kernelspec": {
   "display_name": "Py_torch",
   "language": "python",
   "name": "python3"
  },
  "language_info": {
   "codemirror_mode": {
    "name": "ipython",
    "version": 3
   },
   "file_extension": ".py",
   "mimetype": "text/x-python",
   "name": "python",
   "nbconvert_exporter": "python",
   "pygments_lexer": "ipython3",
   "version": "3.8.20"
  }
 },
 "nbformat": 4,
 "nbformat_minor": 5
}
